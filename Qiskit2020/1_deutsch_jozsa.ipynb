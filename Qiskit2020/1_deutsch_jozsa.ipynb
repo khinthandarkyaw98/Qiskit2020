{
 "cells": [
  {
   "cell_type": "code",
   "execution_count": null,
   "id": "1ae08266",
   "metadata": {},
   "outputs": [],
   "source": [
    "# https://quantum.cloud.ibm.com/docs/en/migration-guides/qiskit-1.0-features#providers.basicaer\n",
    "# from qiskit import QuantumCircuit\n",
    " \n",
    "# qc = QuantumCircuit(3)\n",
    "# qc.h(0)\n",
    "# qc.h(1)\n",
    "# qc.cx(1, 2)\n",
    "# qc.measure_all()\n",
    " \n",
    "# # Previous\n",
    "# from qiskit import BasicAer\n",
    "# backend = BasicAer.get_backend(\"statevector_simulator\")\n",
    "# statevector = backend.run(qc).result().get_statevector()\n",
    " \n",
    "# # Current\n",
    "# qc.remove_final_measurements()  # no measurements allowed\n",
    "# from qiskit.quantum_info import Statevector\n",
    "# statevector = Statevector(qc)"
   ]
  },
  {
   "cell_type": "code",
   "execution_count": null,
   "id": "73e02457",
   "metadata": {},
   "outputs": [],
   "source": [
    "# initialization\n",
    "import numpy as np\n",
    " \n",
    "# Importing Qiskit\n",
    "from qiskit.quantum_info import Statevector\n",
    "from qiskit_ibm_runtime import QiskitRuntimeService\n",
    "from qiskit_aer import AerSimulator\n",
    "from qiskit import QuantumCircuit, transpile\n",
    "from qiskit.visualization import plot_histogram\n",
    " \n",
    "# -------------------------------------------------------\n",
    "# Deutsch-Jozsa Oracle\n",
    "# -------------------------------------------------------\n",
    "def dj_oracle(case, n):\n",
    "    oracle_qc = QuantumCircuit(n+1)\n",
    " \n",
    "    if case == \"balanced\":\n",
    "        # Apply controlled-NOT gates for each input qubit\n",
    "        for qubit in range(n):\n",
    "            oracle_qc.cx(qubit, n)\n",
    " \n",
    "    elif case == \"constant\":\n",
    "        output = np.random.randint(2)\n",
    "        if output == 1:\n",
    "            oracle_qc.x(n)\n",
    " \n",
    "    oracle_gate = oracle_qc.to_gate()\n",
    "    oracle_gate.name = \"Oracle\"\n",
    "    return oracle_gate\n",
    " \n",
    "# -------------------------------------------------------\n",
    "# Deutsch-Jozsa Algorithm\n",
    "# -------------------------------------------------------\n",
    "def dj_algorithm(n, case='random'):\n",
    "    dj_circuit = QuantumCircuit(n+1, n)\n",
    " \n",
    "    # Input qubits in superposition\n",
    "    for qubit in range(n):\n",
    "        dj_circuit.h(qubit)\n",
    " \n",
    "    # Output qubit in |-> state\n",
    "    dj_circuit.x(n)\n",
    "    dj_circuit.h(n)\n",
    " \n",
    "    # Choose random oracle if not specified\n",
    "    if case == \"random\":\n",
    "        case = \"constant\" if np.random.randint(2) == 0 else \"balanced\"\n",
    " \n",
    "    # Append oracle\n",
    "    oracle = dj_oracle(case, n)\n",
    "    dj_circuit.append(oracle, range(n+1))\n",
    " \n",
    "    # Apply Hadamards and measure input qubits\n",
    "    for i in range(n):\n",
    "        dj_circuit.h(i)\n",
    "        dj_circuit.measure(i, i) # link to the classical register\n",
    " \n",
    "    return dj_circuit\n",
    " \n",
    "# -------------------------------------------------------\n",
    "# Run on Local Simulator\n",
    "# -------------------------------------------------------\n",
    "n = 4\n",
    "dj_circuit = dj_algorithm(n, 'constant')\n",
    " \n",
    "simulator = AerSimulator()\n",
    "compiled = transpile(dj_circuit, simulator)\n",
    "result = simulator.run(compiled, shots=1024).result()\n",
    "answer = result.get_counts()\n",
    " \n",
    "print(\"Simulation Result (local):\", answer)\n",
    "plot_histogram(answer)\n"
   ]
  },
  {
   "cell_type": "code",
   "execution_count": null,
   "id": "bd313f1e",
   "metadata": {},
   "outputs": [],
   "source": [
    "dj_circuit_balanced = dj_algorithm(n, 'balanced')\n",
    "\n",
    "compiled_bal = transpile(dj_circuit_balanced, simulator)\n",
    "result_bal = simulator.run(compiled_bal, shots=1024).result()\n",
    "answer_bal = result_bal.get_counts()\n",
    "\n",
    "print(\"Simulation Result (Balanced Oracle):\", answer_bal)\n",
    "plot_histogram(answer_bal)\n"
   ]
  },
  {
   "cell_type": "markdown",
   "id": "55df5057",
   "metadata": {},
   "source": [
    "https://github.com/Qiskit/textbook/blob/main/notebooks/ch-algorithms/deutsch-jozsa.ipynb"
   ]
  },
  {
   "cell_type": "markdown",
   "id": "cfed6fd9",
   "metadata": {},
   "source": [
    "# Constant Oracle"
   ]
  },
  {
   "cell_type": "markdown",
   "id": "8a58f3eb",
   "metadata": {},
   "source": [
    "Let's start by creating a constant oracle, in this case the input has no effect on the output so we just randomly set the output qubit to be 0 or 1:"
   ]
  },
  {
   "cell_type": "code",
   "execution_count": null,
   "id": "573d6cad",
   "metadata": {},
   "outputs": [],
   "source": [
    "# Initialization\n",
    "import numpy as np\n",
    "\n",
    "# importing Qiskit\n",
    "from qiskit import QuantumCircuit, transpile\n",
    "from qiskit_aer import AerSimulator\n",
    "from qiskit_ibm_runtime import QiskitRuntimeService\n",
    "\n",
    "# import basic plot tools\n",
    "from qiskit.visualization import plot_histogram\n",
    "\n",
    "# set the length of the n-bit input string\n",
    "n = 3\n",
    "\n",
    "constant_oracle = QuantumCircuit(n+1)\n",
    "\n",
    "output = np.random.randint(2)\n",
    "print(f\"Output = {output}\")\n",
    "if output == 1:\n",
    "    constant_oracle.x(n)\n",
    "\n",
    "constant_oracle.draw(output='mpl')"
   ]
  },
  {
   "cell_type": "markdown",
   "id": "57fa644a",
   "metadata": {},
   "source": [
    "# Balanced Oracle"
   ]
  },
  {
   "cell_type": "markdown",
   "id": "e3f94b1e",
   "metadata": {},
   "source": [
    "For n = 3 qubits, $2^3 = 8$ possible inputs: 000, 001, ..., 111.\n",
    "\n",
    "1 extra bit $(n + 1)$, (often called the output bit or ancilla qubit) stores the result of the oracle $f(x)$.\n",
    "\n",
    "So, the first n qubits = input register (holds the possible inputs).\n",
    "\n",
    "The last 1 qubit = output qubit (holds $f(x)$ result)."
   ]
  },
  {
   "cell_type": "code",
   "execution_count": null,
   "id": "aaaa0726",
   "metadata": {},
   "outputs": [],
   "source": [
    "balanced_oracle = QuantumCircuit(n+1)"
   ]
  },
  {
   "cell_type": "markdown",
   "id": "96dd9f79",
   "metadata": {},
   "source": [
    "Next, we create a balanced oracle. As we saw in section 1b, we can create a balanced oracle by performing CNOTs with each input qubit as a control and the output bit as the target. We can vary the input states that give 0 or 1 by wrapping some of the controls in X-gates. Let's first choose a binary string of length n that dicdates which controls to wrap."
   ]
  },
  {
   "cell_type": "code",
   "execution_count": null,
   "id": "13c1d618",
   "metadata": {},
   "outputs": [],
   "source": [
    "b_str = \"101\""
   ]
  },
  {
   "cell_type": "markdown",
   "id": "f4a2e28a",
   "metadata": {},
   "source": [
    "Now we have this string, we can use it as a key to place our X-gates. For each qubit in our circuit, we place an X-gate if the corresponding digit in b_str is 1, or do nothing if the digit is 0."
   ]
  },
  {
   "cell_type": "code",
   "execution_count": null,
   "id": "233a316d",
   "metadata": {},
   "outputs": [],
   "source": [
    "balanced_oracle = QuantumCircuit(n+1)\n",
    "b_str = \"101\"\n",
    "\n",
    "# Place X-gates\n",
    "for qubit in range(len(b_str)):\n",
    "    if b_str[qubit] == \"1\":\n",
    "        balanced_oracle.x(qubit)\n",
    "\n",
    "balanced_oracle.draw(output='mpl')"
   ]
  },
  {
   "cell_type": "markdown",
   "id": "40801494",
   "metadata": {},
   "source": [
    "We do our controlled-NOT gates, using each input qubit as a control, and the output qubit as a target."
   ]
  },
  {
   "cell_type": "code",
   "execution_count": null,
   "id": "66e580d6",
   "metadata": {},
   "outputs": [],
   "source": [
    "balanced_oracle = QuantumCircuit(n+1)\n",
    "b_str = \"101\"\n",
    "\n",
    "# Place X-gates\n",
    "for qubit in range(len(b_str)):\n",
    "    if b_str[qubit] == \"1\":\n",
    "        balanced_oracle.x(qubit) # flip the qubit\n",
    "\n",
    "# Use barrier as divider\n",
    "balanced_oracle.barrier()\n",
    "\n",
    "# Controlled-NOT gates\n",
    "for qubit in range(n):\n",
    "    balanced_oracle.cx(qubit, n)\n",
    "\n",
    "balanced_oracle.barrier()\n",
    "balanced_oracle.draw(output='mpl')"
   ]
  },
  {
   "cell_type": "markdown",
   "id": "da5cba25",
   "metadata": {},
   "source": [
    "Finally, we repeat the code from the two cells up to finish wrapping the controls in X-gates."
   ]
  },
  {
   "cell_type": "code",
   "execution_count": null,
   "id": "a3b80e2c",
   "metadata": {},
   "outputs": [],
   "source": [
    "balanced_oracle = QuantumCircuit(n+1)\n",
    "b_str = \"101\"\n",
    "\n",
    "# Place X-gates\n",
    "for qubit in range(len(b_str)):\n",
    "    if b_str[qubit] == \"1\":\n",
    "        balanced_oracle.x(qubit)\n",
    "\n",
    "# Use barrier as divider\n",
    "balanced_oracle.barrier()\n",
    "\n",
    "# Controlled-NOT gates\n",
    "for qubit in range(n):\n",
    "    balanced_oracle.cx(qubit, n)\n",
    "\n",
    "balanced_oracle.barrier()\n",
    "\n",
    "# Place X-gates\n",
    "for qubit in range(len(b_str)):\n",
    "    if b_str[qubit] == \"1\":\n",
    "        balanced_oracle.x(qubit)\n",
    "\n",
    "# Show oracle\n",
    "balanced_oracle.draw(output='mpl')"
   ]
  },
  {
   "cell_type": "markdown",
   "id": "e9c5e959",
   "metadata": {},
   "source": [
    "We have just created a balanced oracle! All that's left to do is see if the Deutsch-Jozsa algorithm can solve it. "
   ]
  },
  {
   "cell_type": "markdown",
   "id": "1148b4f1",
   "metadata": {},
   "source": [
    "# The Full Algorithm"
   ]
  },
  {
   "cell_type": "markdown",
   "id": "06e56d57",
   "metadata": {},
   "source": [
    "Let's now put everything together. This first step in the algorithm is to initialize the input qubits in the state $|{+}\\rangle$ and the output qubit in the state $|{-}\\rangle$:"
   ]
  },
  {
   "cell_type": "markdown",
   "id": "84f01131",
   "metadata": {},
   "source": [
    "$|{+}\\rangle = \\frac{1}{\\sqrt{2}}(|0\\rangle + |1\\rangle)$\n",
    "\n",
    "$|{-}\\rangle = \\frac{1}{\\sqrt{2}}(|0\\rangle - |1\\rangle)$"
   ]
  },
  {
   "cell_type": "code",
   "execution_count": null,
   "id": "bc66bc55",
   "metadata": {},
   "outputs": [],
   "source": [
    "# (num_qubits, num_classical_bits)\n",
    "# For n+1 qubits:\n",
    "#### First n qubits = input register - we create a superposition of all possible inputs\n",
    "#### Last 1 qubit = output qubit - stores f(x) (the oracle's output)\n",
    "# n classical bits\n",
    "#### After the algorithm, we measure the n input qubits into n classical bits.\n",
    "#### We don't measure the output qubit becasue it is not needed to determine whether f(x) is constant or balanced.\n",
    "dj_circuit = QuantumCircuit(n+1, n) \n",
    "\n",
    "# Apply H-gates\n",
    "for qubit in range(n):\n",
    "    dj_circuit.h(qubit)\n",
    "\n",
    "# Put qubit in state |->\n",
    "dj_circuit.x(n)\n",
    "dj_circuit.h(n)\n",
    "dj_circuit.draw(output='mpl')"
   ]
  },
  {
   "cell_type": "markdown",
   "id": "4ba6516a",
   "metadata": {},
   "source": [
    "Next, let's apply the oracle. Here we apply the balanced_oracle we created above:"
   ]
  },
  {
   "cell_type": "code",
   "execution_count": null,
   "id": "ff1cbc61",
   "metadata": {},
   "outputs": [],
   "source": [
    "dj_circuit = QuantumCircuit(n+1, n)\n",
    "\n",
    "# Apply H-gates\n",
    "for qubit in range(n):\n",
    "    dj_circuit.h(qubit)\n",
    "\n",
    "# Put qubit in state |->\n",
    "dj_circuit.x(n)\n",
    "dj_circuit.h(n)\n",
    "\n",
    "# Add oracle\n",
    "dj_circuit = dj_circuit.compose(balanced_oracle)\n",
    "dj_circuit.draw(output='mpl')"
   ]
  },
  {
   "cell_type": "markdown",
   "id": "05025873",
   "metadata": {},
   "source": [
    "Finally, we perform H-gates on the n-input qubits, and measure our input register:"
   ]
  },
  {
   "cell_type": "code",
   "execution_count": null,
   "id": "9bb0e27a",
   "metadata": {},
   "outputs": [],
   "source": [
    "dj_circuit = QuantumCircuit(n+1, n)\n",
    "\n",
    "# Apply H-gates\n",
    "for qubit in range(n):\n",
    "    dj_circuit.h(qubit)\n",
    "\n",
    "# Put qubit in state |->\n",
    "dj_circuit.x(n)\n",
    "dj_circuit.h(n)\n",
    "\n",
    "# balanced_oracle\n",
    "balanced_oracle = QuantumCircuit(n+1)\n",
    "b_str = \"101\"\n",
    "\n",
    "# Place X-gates\n",
    "for qubit in range(len(b_str)):\n",
    "    if b_str[qubit] == \"1\":\n",
    "        balanced_oracle.x(qubit)\n",
    "\n",
    "# Use barrier as divider\n",
    "balanced_oracle.barrier()\n",
    "\n",
    "# Controlled-NOT gates\n",
    "for qubit in range(n):\n",
    "    balanced_oracle.cx(qubit, n)\n",
    "\n",
    "# Use barrier as divider\n",
    "balanced_oracle.barrier()\n",
    "\n",
    "# Add oracle\n",
    "dj_circuit = dj_circuit.compose(balanced_oracle)\n",
    "\n",
    "# Repeat H-gates\n",
    "for qubit in range(n):\n",
    "    dj_circuit.h(qubit)\n",
    "\n",
    "\n",
    "# Use barrier as divider\n",
    "dj_circuit.barrier()\n",
    "\n",
    "# Measure \n",
    "for i in range(n):\n",
    "    dj_circuit.measure(i, i)\n",
    "\n",
    "# Display circuit\n",
    "dj_circuit.draw(output='mpl')"
   ]
  },
  {
   "cell_type": "markdown",
   "id": "3f367e08",
   "metadata": {},
   "source": [
    "Let's see the output."
   ]
  },
  {
   "cell_type": "code",
   "execution_count": null,
   "id": "aa6b4bf4",
   "metadata": {},
   "outputs": [],
   "source": [
    "# Use local simulator\n",
    "aer_sim = AerSimulator()\n",
    "\n",
    "\n",
    "# Transpile the circuit for the simulator\n",
    "compiled_circuit = transpile(dj_circuit, aer_sim)\n",
    "\n",
    "# Run the circuit\n",
    "result = aer_sim.run(compiled_circuit, shots=1024).result()\n",
    "answer = result.get_counts()\n",
    "\n",
    "# Display the resutls\n",
    "print(\"Circuit output:\", answer)\n",
    "plot_histogram(answer)"
   ]
  },
  {
   "cell_type": "code",
   "execution_count": null,
   "id": "1d81305e",
   "metadata": {},
   "outputs": [],
   "source": [
    "# ... we have a 0% chance of measuring 000.\n",
    "# No error means correct\n",
    "assert answer.get('000', 0) == 0"
   ]
  },
  {
   "cell_type": "markdown",
   "id": "fb7a17ee",
   "metadata": {},
   "source": [
    "We can see from the results above that we have a 0% chance of measuring 000. \n",
    "This correclty predicts the function is balanced."
   ]
  },
  {
   "cell_type": "markdown",
   "id": "f3ff91e9",
   "metadata": {},
   "source": [
    "# Generalized Circuits\n",
    "\n",
    "Below, we provide a generalized function that creates Deutsch-Jozsa oracles and turns them into quantum gates. It takes the case. (either 'balanced' or 'constant'), and n, the size of the input register."
   ]
  },
  {
   "cell_type": "code",
   "execution_count": 1,
   "id": "56a88e50",
   "metadata": {},
   "outputs": [],
   "source": [
    "# initialization\n",
    "import numpy as np\n",
    " \n",
    "# Importing Qiskit\n",
    "from qiskit.quantum_info import Statevector\n",
    "from qiskit_ibm_runtime import QiskitRuntimeService\n",
    "from qiskit_aer import AerSimulator\n",
    "from qiskit import QuantumCircuit, transpile\n",
    "from qiskit.visualization import plot_histogram"
   ]
  },
  {
   "cell_type": "code",
   "execution_count": 2,
   "id": "63ba6052",
   "metadata": {},
   "outputs": [],
   "source": [
    "def dj_oracle(case, n):\n",
    "    # We need to make a QuantumCircuit object to return\n",
    "    # This circuit has n+1 qubits: the size of the input plus one output qubit\n",
    "    oracle_qc = QuantumCircuit(n+1)\n",
    "\n",
    "    # First, let's deal with the case in which oracle is balanced\n",
    "    if case == \"balanced\":\n",
    "        # First generate a random number that tells us which CNOTs to\n",
    "        # wrap in X-gates:\n",
    "        b = np.random.randint(1, 2**n)\n",
    "        # Next, format 'b' as a binary string of length 'n', padded with zeros:\n",
    "        b_str = format(b, '0'+str(n)+'b')\n",
    "        # Next, we place the first X-fates. Each digit in our binary string\n",
    "        # corresponds to a qubit, if the digit is 0, we do nothing, if it is 1\n",
    "        # we apply an X-gate to that qubit:\n",
    "        for qubit in range(len(b_str)):\n",
    "            if b_str[qubit] == '1':\n",
    "                oracle_qc.x(qubit)\n",
    "        # Do the controlled-NOT gates for each qubit, using the output qubit\n",
    "        # as the target:\n",
    "        for qubit in range(n):\n",
    "            oracle_qc.cx(qubit, n)\n",
    "        # Next, pace the final X-gates\n",
    "        for qubit in range(len(b_str)):\n",
    "            if b_str[qubit] == '1':\n",
    "                oracle_qc.x(qubit)\n",
    "\n",
    "    # Case in which oracle is constant\n",
    "    if case == \"constant\":\n",
    "        # First decide what the fixed output of the oracle will be\n",
    "        # (either always 0 or always 1)\n",
    "        output = np.random.randint(2)\n",
    "        if output == 1:\n",
    "            oracle_qc.x(n)\n",
    "\n",
    "    oracle_gate = oracle_qc.to_gate()\n",
    "    oracle_gate.name = \"Oracle\" # To show when we display the circuit\n",
    "    return oracle_gate"
   ]
  },
  {
   "cell_type": "markdown",
   "id": "e12ad306",
   "metadata": {},
   "source": [
    "Let's also create a function that takes this oracle gate and performs the Deutsch-Jozsa algorithm on it:"
   ]
  },
  {
   "cell_type": "code",
   "execution_count": 3,
   "id": "42f65691",
   "metadata": {},
   "outputs": [],
   "source": [
    "def dj_algorithm(oracle, n):\n",
    "    dj_circuit = QuantumCircuit(n+1, n)\n",
    "    # Set up the output qubit:\n",
    "    dj_circuit.x(n)\n",
    "    dj_circuit.h(n)\n",
    "    # And set up the input register:\n",
    "    for qubit in range(n):\n",
    "        dj_circuit.h(qubit)\n",
    "    # Let's append the oracle gate to our circuit:\n",
    "    dj_circuit.append(oracle, range(n+1))\n",
    "    # Finally, perform the H-gates again and measure:\n",
    "    for qubit in range(n):\n",
    "        dj_circuit.h(qubit)\n",
    "    for i in range(n):\n",
    "        dj_circuit.measure(i, i)\n",
    "    return dj_circuit"
   ]
  },
  {
   "cell_type": "markdown",
   "id": "69842d31",
   "metadata": {},
   "source": [
    "Finally, let's use these functions to play around with the algorithm."
   ]
  },
  {
   "cell_type": "code",
   "execution_count": 4,
   "id": "4099efdc",
   "metadata": {},
   "outputs": [
    {
     "data": {
      "image/png": "[encoded data removed]",
      "text/plain": [
       "<Figure size 872.774x535.111 with 1 Axes>"
      ]
     },
     "execution_count": 4,
     "metadata": {},
     "output_type": "execute_result"
    }
   ],
   "source": [
    "n = 4 \n",
    "oracle_gate = dj_oracle('balanced', n)\n",
    "dj_circuit = dj_algorithm(oracle_gate, n)\n",
    "dj_circuit.draw(output=\"mpl\")"
   ]
  },
  {
   "cell_type": "markdown",
   "id": "bc679da4",
   "metadata": {},
   "source": [
    "Answser the results of running this circuit:"
   ]
  },
  {
   "cell_type": "code",
   "execution_count": 5,
   "id": "b3b03c61",
   "metadata": {},
   "outputs": [
    {
     "data": {
      "image/png": "[encoded data removed]",
      "text/plain": [
       "<Figure size 640x480 with 1 Axes>"
      ]
     },
     "execution_count": 5,
     "metadata": {},
     "output_type": "execute_result"
    }
   ],
   "source": [
    "from qiskit_aer import AerSimulator\n",
    "\n",
    "# Use local simulator\n",
    "aer_sim = AerSimulator()\n",
    "\n",
    "# Transpile the circuit for the simulator\n",
    "compiled_circuit = transpile(dj_circuit, aer_sim)\n",
    "\n",
    "# Run the circuit\n",
    "result = aer_sim.run(compiled_circuit).result()\n",
    "answer = result.get_counts()\n",
    "\n",
    "plot_histogram(answer)"
   ]
  },
  {
   "cell_type": "markdown",
   "id": "04a8a2c8",
   "metadata": {},
   "source": [
    "# Step by step through Deutsch-Josza (DJ) code"
   ]
  },
  {
   "cell_type": "markdown",
   "id": "0ff04bb5",
   "metadata": {},
   "source": [
    "### Step 0: Understanding the goal\n",
    "\n",
    "The Deutsch-Jozsa algorithm is designed to determine whether a given function $f: \\{0, 1\\}^n \\rarr \\{0, 1\\}$ is constant (same output for all inputs) or balanced (half 0s, half 1s) with a single query, exploiting quantum superposition and interference."
   ]
  },
  {
   "cell_type": "code",
   "execution_count": 1,
   "id": "6e6b157b",
   "metadata": {},
   "outputs": [],
   "source": [
    "# initialization\n",
    "import numpy as np\n",
    " \n",
    "# Importing Qiskit\n",
    "from qiskit.quantum_info import Statevector\n",
    "from qiskit_ibm_runtime import QiskitRuntimeService\n",
    "from qiskit_aer import AerSimulator\n",
    "from qiskit import QuantumCircuit, transpile\n",
    "from qiskit.visualization import plot_histogram"
   ]
  },
  {
   "cell_type": "markdown",
   "id": "54e9013e",
   "metadata": {},
   "source": [
    "### Step 1: Oracle Creation (dj_oracle)"
   ]
  },
  {
   "cell_type": "code",
   "execution_count": 2,
   "id": "541d06f5",
   "metadata": {},
   "outputs": [],
   "source": [
    "n = 4\n",
    "oracle_qc = QuantumCircuit(n+1)"
   ]
  },
  {
   "cell_type": "markdown",
   "id": "45ad4ff8",
   "metadata": {},
   "source": [
    "- Create a quantum circuit for the oracle with $n$ input qubits and 1 output qubit ($n+1$ total).\n",
    "- Why? The output qubit will store the result $f(x)$  in a reversible way, which is requried in quantum computing."
   ]
  },
  {
   "cell_type": "markdown",
   "id": "d193a7cc",
   "metadata": {},
   "source": [
    "### Step 1a: Balanced oracle case"
   ]
  },
  {
   "cell_type": "code",
   "execution_count": 3,
   "id": "781e52f8",
   "metadata": {},
   "outputs": [
    {
     "name": "stdout",
     "output_type": "stream",
     "text": [
      "b = 1\n"
     ]
    },
    {
     "data": {
      "text/plain": [
       "'0001'"
      ]
     },
     "execution_count": 3,
     "metadata": {},
     "output_type": "execute_result"
    }
   ],
   "source": [
    "b = np.random.randint(1, 2**n)\n",
    "print(f\"b = {b}\")\n",
    "b_str = format(b, '0'+str(n)+'b')\n",
    "b_str"
   ]
  },
  {
   "cell_type": "markdown",
   "id": "978dd43c",
   "metadata": {},
   "source": [
    "- We pick a random balanced function by generating a binary string `b_str`.\n",
    "- Each `1` in the string will tell us which qubits to flip (X-gate) before and after the CNOTs.\n",
    "- Why? This ensures the oracle is balanced but keeps it reversible."
   ]
  },
  {
   "cell_type": "code",
   "execution_count": 4,
   "id": "eea4ac31",
   "metadata": {},
   "outputs": [
    {
     "data": {
      "image/png": "[encoded data removed]",
      "text/plain": [
       "<Figure size 203.885x451.5 with 1 Axes>"
      ]
     },
     "execution_count": 4,
     "metadata": {},
     "output_type": "execute_result"
    }
   ],
   "source": [
    "for qubit in range(len(b_str)):\n",
    "    if b_str[qubit] == '1':\n",
    "        oracle_qc.x(qubit)\n",
    "\n",
    "oracle_qc.draw(output='mpl')"
   ]
  },
  {
   "cell_type": "markdown",
   "id": "da0159f8",
   "metadata": {},
   "source": [
    "- Apply X-gates to certain input qubits based on `b_str`.\n",
    "- Why? This changes the input so that when we do the CNOT, we control which inputs affect the output. "
   ]
  },
  {
   "cell_type": "code",
   "execution_count": 5,
   "id": "9ea2d983",
   "metadata": {},
   "outputs": [
    {
     "data": {
      "image/png": "[encoded data removed]",
      "text/plain": [
       "<Figure size 621.941x451.5 with 1 Axes>"
      ]
     },
     "execution_count": 5,
     "metadata": {},
     "output_type": "execute_result"
    }
   ],
   "source": [
    "oracle_qc.barrier()\n",
    "\n",
    "for qubit in range(n):\n",
    "    oracle_qc.cx(qubit, n)\n",
    "\n",
    "oracle_qc.draw(output='mpl')"
   ]
  },
  {
   "cell_type": "markdown",
   "id": "477075f5",
   "metadata": {},
   "source": [
    "- Apply CNOT gates from each input qubit to the output qubit.\n",
    "- Why? This encodes $f(x)$ into the output qubit in a reversible manner. "
   ]
  },
  {
   "cell_type": "code",
   "execution_count": 6,
   "id": "af6287da",
   "metadata": {},
   "outputs": [
    {
     "data": {
      "image/png": "[encoded data removed]",
      "text/plain": [
       "<Figure size 789.163x451.5 with 1 Axes>"
      ]
     },
     "execution_count": 6,
     "metadata": {},
     "output_type": "execute_result"
    }
   ],
   "source": [
    "oracle_qc.barrier()\n",
    "\n",
    "for qubit in range(len(b_str)):\n",
    "    if b_str[qubit] == '1':\n",
    "        oracle_qc.x(qubit)\n",
    "\n",
    "oracle_qc.draw(output='mpl')"
   ]
  },
  {
   "cell_type": "markdown",
   "id": "3868616b",
   "metadata": {},
   "source": [
    "- Apply the X-gates again to restore original qubit states.\n",
    "- Why? Quantum operations must be unitary and reversible, so we undo the initial flips to avoid distrubing the superposition. "
   ]
  },
  {
   "cell_type": "markdown",
   "id": "847dc8ca",
   "metadata": {},
   "source": [
    "### Step 1b: Constant oracle case"
   ]
  },
  {
   "cell_type": "code",
   "execution_count": 7,
   "id": "19363edc",
   "metadata": {},
   "outputs": [
    {
     "data": {
      "image/png": "[encoded data removed]",
      "text/plain": [
       "<Figure size 789.163x451.5 with 1 Axes>"
      ]
     },
     "execution_count": 7,
     "metadata": {},
     "output_type": "execute_result"
    }
   ],
   "source": [
    "output = np.random.randint(2)\n",
    "if output == 1:\n",
    "    oracle_qc.x(n)\n",
    "\n",
    "oracle_qc.draw(output='mpl')"
   ]
  },
  {
   "cell_type": "markdown",
   "id": "7e011f20",
   "metadata": {},
   "source": [
    "- If the function is constant, the output qubit is set to always 0 or always 1.\n",
    "- Why? This ensures the oracle does not depend on inputs, consistent with the constant case."
   ]
  },
  {
   "cell_type": "code",
   "execution_count": 8,
   "id": "616662a5",
   "metadata": {},
   "outputs": [
    {
     "name": "stdout",
     "output_type": "stream",
     "text": [
      "Circuit depth: 6\n",
      "Number of qubits: 5\n",
      "Operations: OrderedDict({'cx': 4, 'x': 2, 'barrier': 2})\n"
     ]
    }
   ],
   "source": [
    "# To get detialed information about the circuit\n",
    "print(\"Circuit depth:\", oracle_qc.depth())\n",
    "print(\"Number of qubits:\", oracle_qc.num_qubits)\n",
    "print(\"Operations:\", oracle_qc.count_ops())"
   ]
  },
  {
   "cell_type": "markdown",
   "id": "178d246a",
   "metadata": {},
   "source": [
    "### Step1c: Convert to a gate"
   ]
  },
  {
   "cell_type": "code",
   "execution_count": 9,
   "id": "9224ee11",
   "metadata": {},
   "outputs": [],
   "source": [
    "### does not work with barrier()\n",
    "\n",
    "# oracle_gate = oracle_qc.to_gate()\n",
    "# oracle_gate.name = \"Oracle\"\n",
    "\n",
    "# display_oracle_circuit = QuantumCircuit(n+1)\n",
    "# display_oracle_circuit.append(oracle_gate, range(n+1))\n",
    "# display_oracle_circuit.draw(output=\"mpl\")"
   ]
  },
  {
   "cell_type": "code",
   "execution_count": 10,
   "id": "33c1b98f",
   "metadata": {},
   "outputs": [
    {
     "name": "stdout",
     "output_type": "stream",
     "text": [
      "Original circuit with barriers:\n",
      "\n",
      "Oracle gate without barriers:\n"
     ]
    },
    {
     "data": {
      "image/png": "[encoded data removed]",
      "text/plain": [
       "<Figure size 287.496x451.5 with 1 Axes>"
      ]
     },
     "execution_count": 10,
     "metadata": {},
     "output_type": "execute_result"
    }
   ],
   "source": [
    "def create_oracle_without_barriers(circuit):\n",
    "    \"\"\"Remove barriers from a quantum circuit while preserving operations\"\"\"\n",
    "    n = circuit.num_qubits\n",
    "    new_circuit = QuantumCircuit(n)\n",
    "    \n",
    "    # Copy only non-barrier operations\n",
    "    for instruction in circuit.data:\n",
    "        if instruction.operation.name != 'barrier':\n",
    "            new_circuit.append(instruction.operation, instruction.qubits)\n",
    "    \n",
    "    return new_circuit\n",
    "\n",
    "# Example usage:\n",
    "balanced_oracle = QuantumCircuit(n+1)\n",
    "b_str = \"101\"\n",
    "\n",
    "# Place X-gates\n",
    "for qubit in range(len(b_str)):\n",
    "    if b_str[qubit] == \"1\":\n",
    "        balanced_oracle.x(qubit)\n",
    "\n",
    "balanced_oracle.barrier()  # These barriers are fine for visualization\n",
    "\n",
    "# Controlled-NOT gates\n",
    "for qubit in range(n):\n",
    "    balanced_oracle.cx(qubit, n)\n",
    "\n",
    "balanced_oracle.barrier()  # These barriers are fine for visualization\n",
    "\n",
    "# Place X-gates again\n",
    "for qubit in range(len(b_str)):\n",
    "    if b_str[qubit] == \"1\":\n",
    "        balanced_oracle.x(qubit)\n",
    "\n",
    "# Remove barriers before converting to gate\n",
    "clean_oracle = create_oracle_without_barriers(balanced_oracle)\n",
    "oracle_gate = clean_oracle.to_gate()\n",
    "oracle_gate.name = \"Oracle\"\n",
    "\n",
    "# Visualize the original circuit with barriers\n",
    "print(\"Original circuit with barriers:\")\n",
    "balanced_oracle.draw(output='mpl')\n",
    "\n",
    "# Visualize the gate\n",
    "display_circuit = QuantumCircuit(n+1)\n",
    "display_circuit.append(oracle_gate, range(n+1))\n",
    "print(\"\\nOracle gate without barriers:\")\n",
    "display_circuit.draw(output='mpl')"
   ]
  },
  {
   "cell_type": "markdown",
   "id": "a8d7b26a",
   "metadata": {},
   "source": [
    "- Convert the oracle circuit into a single gate for easy reuse.\n",
    "- Why? The DJ algorithm needs the oracle as a unitary operator operator applied in superposition. "
   ]
  },
  {
   "cell_type": "markdown",
   "id": "666e32df",
   "metadata": {},
   "source": [
    "### Step 2: Deutsch-Jozsa Algorithm (dj_algorithm)"
   ]
  },
  {
   "cell_type": "code",
   "execution_count": 11,
   "id": "f59c24d7",
   "metadata": {},
   "outputs": [],
   "source": [
    "dj_circuit = QuantumCircuit(n+1, n)"
   ]
  },
  {
   "cell_type": "markdown",
   "id": "6687b32b",
   "metadata": {},
   "source": [
    "- Create the DJ circuit with `n` input qubits + 1 output qubit, and `n` classical bits to store results."
   ]
  },
  {
   "cell_type": "markdown",
   "id": "f089e73e",
   "metadata": {},
   "source": [
    "### Step2a: Initialize output qubit"
   ]
  },
  {
   "cell_type": "code",
   "execution_count": 12,
   "id": "e7ff3f4f",
   "metadata": {},
   "outputs": [
    {
     "data": {
      "image/png": "[encoded data removed]",
      "text/plain": [
       "<Figure size 287.496x535.111 with 1 Axes>"
      ]
     },
     "execution_count": 12,
     "metadata": {},
     "output_type": "execute_result"
    }
   ],
   "source": [
    "dj_circuit.x(n)\n",
    "dj_circuit.h(n)\n",
    "\n",
    "dj_circuit.draw(output='mpl')"
   ]
  },
  {
   "cell_type": "markdown",
   "id": "69f1c416",
   "metadata": {},
   "source": [
    "- Apply X followed by Hadamard (H) to the output qubit. \n",
    "- Why? Prepares the output qubit in $|{-}\\rangle {=} (|0\\rangle-|1\\rangle)/\\sqrt{2}$\n",
    "- This is necessary becasue the oracle will flip the phase depending on $f(x)$ rather than changing the computational basis."
   ]
  },
  {
   "cell_type": "code",
   "execution_count": 13,
   "id": "2049676a",
   "metadata": {},
   "outputs": [
    {
     "name": "stdout",
     "output_type": "stream",
     "text": [
      "Statevector in binary basis: Statevector([ 0.70710678+0.j,  0.        +0.j,  0.        +0.j,\n",
      "              0.        +0.j,  0.        +0.j,  0.        +0.j,\n",
      "              0.        +0.j,  0.        +0.j,  0.        +0.j,\n",
      "              0.        +0.j,  0.        +0.j,  0.        +0.j,\n",
      "              0.        +0.j,  0.        +0.j,  0.        +0.j,\n",
      "              0.        +0.j, -0.70710678+0.j,  0.        +0.j,\n",
      "              0.        +0.j,  0.        +0.j,  0.        +0.j,\n",
      "              0.        +0.j,  0.        +0.j,  0.        +0.j,\n",
      "              0.        +0.j,  0.        +0.j,  0.        +0.j,\n",
      "              0.        +0.j,  0.        +0.j,  0.        +0.j,\n",
      "              0.        +0.j,  0.        +0.j],\n",
      "            dims=(2, 2, 2, 2, 2))\n"
     ]
    }
   ],
   "source": [
    "# Get the state vector \n",
    "state = Statevector(dj_circuit)\n",
    "\n",
    "# Print binary representation\n",
    "print(f\"Statevector in binary basis: {state}\")"
   ]
  },
  {
   "cell_type": "markdown",
   "id": "c86f8539",
   "metadata": {},
   "source": [
    "### Step 2b: Initialize input qubits"
   ]
  },
  {
   "cell_type": "code",
   "execution_count": 14,
   "id": "82148daa",
   "metadata": {},
   "outputs": [],
   "source": [
    "for qubit in range(n):\n",
    "    dj_circuit.h(qubit)"
   ]
  },
  {
   "cell_type": "code",
   "execution_count": 15,
   "id": "e3664271",
   "metadata": {},
   "outputs": [
    {
     "data": {
      "image/png": "[encoded data removed]",
      "text/plain": [
       "<Figure size 287.496x535.111 with 1 Axes>"
      ]
     },
     "execution_count": 15,
     "metadata": {},
     "output_type": "execute_result"
    }
   ],
   "source": [
    "dj_circuit.draw(output='mpl')"
   ]
  },
  {
   "cell_type": "markdown",
   "id": "ea44f79d",
   "metadata": {},
   "source": [
    "- Apply Hadamard gates to all input qubits.\n",
    "- Why? Create a superposition of all possible inputs $|x\\rangle$, allowing us to evaluate $f(x)$ on all inputs simultaneoulsy (quantum parallelism)."
   ]
  },
  {
   "cell_type": "code",
   "execution_count": 16,
   "id": "67a01ee6",
   "metadata": {},
   "outputs": [
    {
     "name": "stdout",
     "output_type": "stream",
     "text": [
      "Statevector in binary basis: Statevector([ 0.1767767+0.j,  0.1767767+0.j,  0.1767767+0.j,\n",
      "              0.1767767+0.j,  0.1767767+0.j,  0.1767767+0.j,\n",
      "              0.1767767+0.j,  0.1767767+0.j,  0.1767767+0.j,\n",
      "              0.1767767+0.j,  0.1767767+0.j,  0.1767767+0.j,\n",
      "              0.1767767+0.j,  0.1767767+0.j,  0.1767767+0.j,\n",
      "              0.1767767+0.j, -0.1767767+0.j, -0.1767767+0.j,\n",
      "             -0.1767767+0.j, -0.1767767+0.j, -0.1767767+0.j,\n",
      "             -0.1767767+0.j, -0.1767767+0.j, -0.1767767+0.j,\n",
      "             -0.1767767+0.j, -0.1767767+0.j, -0.1767767+0.j,\n",
      "             -0.1767767+0.j, -0.1767767+0.j, -0.1767767+0.j,\n",
      "             -0.1767767+0.j, -0.1767767+0.j],\n",
      "            dims=(2, 2, 2, 2, 2))\n"
     ]
    }
   ],
   "source": [
    "state = Statevector(dj_circuit)\n",
    "\n",
    "print(f\"Statevector in binary basis: {state}\")"
   ]
  },
  {
   "cell_type": "markdown",
   "id": "c7ddf4d1",
   "metadata": {},
   "source": [
    "### Step 2c: Apply the oracle"
   ]
  },
  {
   "cell_type": "code",
   "execution_count": 17,
   "id": "7985512c",
   "metadata": {},
   "outputs": [
    {
     "data": {
      "text/plain": [
       "<qiskit.circuit.instructionset.InstructionSet at 0x1a5ce13d510>"
      ]
     },
     "execution_count": 17,
     "metadata": {},
     "output_type": "execute_result"
    }
   ],
   "source": [
    "dj_circuit.append(oracle_gate, range(n+1))"
   ]
  },
  {
   "cell_type": "code",
   "execution_count": 18,
   "id": "914b33be",
   "metadata": {},
   "outputs": [
    {
     "data": {
      "image/png": "[encoded data removed]",
      "text/plain": [
       "<Figure size 454.719x535.111 with 1 Axes>"
      ]
     },
     "execution_count": 18,
     "metadata": {},
     "output_type": "execute_result"
    }
   ],
   "source": [
    "dj_circuit.draw(output='mpl')"
   ]
  },
  {
   "cell_type": "markdown",
   "id": "6a47121e",
   "metadata": {},
   "source": [
    "- Apply the oracle gate to the circuit.\n",
    "- Why? This step encodes the function $f(x)$ into the phase of the superposition using the output qubit."
   ]
  },
  {
   "cell_type": "code",
   "execution_count": 19,
   "id": "50339d36",
   "metadata": {},
   "outputs": [
    {
     "name": "stdout",
     "output_type": "stream",
     "text": [
      "Statevector in binary basis: Statevector([ 0.1767767+0.j, -0.1767767+0.j, -0.1767767+0.j,\n",
      "              0.1767767+0.j, -0.1767767+0.j,  0.1767767+0.j,\n",
      "              0.1767767+0.j, -0.1767767+0.j, -0.1767767+0.j,\n",
      "              0.1767767+0.j,  0.1767767+0.j, -0.1767767+0.j,\n",
      "              0.1767767+0.j, -0.1767767+0.j, -0.1767767+0.j,\n",
      "              0.1767767+0.j, -0.1767767+0.j,  0.1767767+0.j,\n",
      "              0.1767767+0.j, -0.1767767+0.j,  0.1767767+0.j,\n",
      "             -0.1767767+0.j, -0.1767767+0.j,  0.1767767+0.j,\n",
      "              0.1767767+0.j, -0.1767767+0.j, -0.1767767+0.j,\n",
      "              0.1767767+0.j, -0.1767767+0.j,  0.1767767+0.j,\n",
      "              0.1767767+0.j, -0.1767767+0.j],\n",
      "            dims=(2, 2, 2, 2, 2))\n"
     ]
    }
   ],
   "source": [
    "state = Statevector(dj_circuit)\n",
    "\n",
    "print(f\"Statevector in binary basis: {state}\")"
   ]
  },
  {
   "cell_type": "markdown",
   "id": "3dec85e5",
   "metadata": {},
   "source": [
    "### Step 2d: Interference"
   ]
  },
  {
   "cell_type": "code",
   "execution_count": 20,
   "id": "2a5b37cf",
   "metadata": {},
   "outputs": [],
   "source": [
    "for qubit in range(n):\n",
    "    dj_circuit.h(qubit)"
   ]
  },
  {
   "cell_type": "code",
   "execution_count": 21,
   "id": "d3909bdb",
   "metadata": {},
   "outputs": [
    {
     "data": {
      "image/png": "[encoded data removed]",
      "text/plain": [
       "<Figure size 538.33x535.111 with 1 Axes>"
      ]
     },
     "execution_count": 21,
     "metadata": {},
     "output_type": "execute_result"
    }
   ],
   "source": [
    "dj_circuit.draw(output='mpl')"
   ]
  },
  {
   "cell_type": "markdown",
   "id": "8aab1592",
   "metadata": {},
   "source": [
    "- Apply Hadamard gates again to input qubits.\n",
    "- Why? This performs quantum interference, which causes:\n",
    "    - All amplitudes to cancel (sum to 0) if function is balanced.\n",
    "    - All amplitudes to reinforce (sum to 1) if function is constant.\n",
    "- This is the key quantum trich that lets DJ decide with a single oracle call."
   ]
  },
  {
   "cell_type": "code",
   "execution_count": 22,
   "id": "3f5ab884",
   "metadata": {},
   "outputs": [
    {
     "name": "stdout",
     "output_type": "stream",
     "text": [
      "Statevector in binary basis: Statevector([-8.03696306e-68+0.j, -9.89746461e-51+0.j,  1.25211142e-51+0.j,\n",
      "              1.78038433e-34+0.j,  9.30361298e-52+0.j,  1.70104734e-34+0.j,\n",
      "              1.98240910e-34+0.j,  1.34692639e-17+0.j, -2.88786304e-50+0.j,\n",
      "             -2.44064821e-34+0.j, -2.58608688e-34+0.j, -6.29457921e-18+0.j,\n",
      "              6.49514367e-34+0.j, -9.52420783e-18+0.j,  1.66988925e-17+0.j,\n",
      "              7.07106781e-01+0.j,  8.03696306e-68+0.j,  9.89746461e-51+0.j,\n",
      "             -1.25211142e-51+0.j, -1.78038433e-34+0.j, -9.30361298e-52+0.j,\n",
      "             -1.70104734e-34+0.j, -1.98240910e-34+0.j, -1.34692639e-17+0.j,\n",
      "              2.88786304e-50+0.j,  2.44064821e-34+0.j,  2.58608688e-34+0.j,\n",
      "              6.29457921e-18+0.j, -6.49514367e-34+0.j,  9.52420783e-18+0.j,\n",
      "             -1.66988925e-17+0.j, -7.07106781e-01+0.j],\n",
      "            dims=(2, 2, 2, 2, 2))\n"
     ]
    }
   ],
   "source": [
    "state = Statevector(dj_circuit)\n",
    "\n",
    "print(f\"Statevector in binary basis: {state}\")"
   ]
  },
  {
   "cell_type": "code",
   "execution_count": null,
   "id": "70811c25",
   "metadata": {},
   "outputs": [],
   "source": []
  }
 ],
 "metadata": {
  "kernelspec": {
   "display_name": ".venv (3.13.2)",
   "language": "python",
   "name": "python3"
  },
  "language_info": {
   "codemirror_mode": {
    "name": "ipython",
    "version": 3
   },
   "file_extension": ".py",
   "mimetype": "text/x-python",
   "name": "python",
   "nbconvert_exporter": "python",
   "pygments_lexer": "ipython3",
   "version": "3.13.2"
  }
 },
 "nbformat": 4,
 "nbformat_minor": 5
}
